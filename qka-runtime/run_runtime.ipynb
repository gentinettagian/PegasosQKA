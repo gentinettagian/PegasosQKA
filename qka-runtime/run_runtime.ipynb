{
 "cells": [
  {
   "cell_type": "code",
   "execution_count": null,
   "metadata": {},
   "outputs": [],
   "source": [
    "from qiskit_ibm_runtime import QiskitRuntimeService\n",
    "import pandas as pd\n",
    "import matplotlib.pyplot as plt\n",
    "import numpy as np\n",
    "\n",
    "\n",
    "service = QiskitRuntimeService()\n",
    "# replace with the program_id received when you uploaded the program\n",
    "program_id = \"pegasosqkadriftinglambda-VpgQVe49zb\""
   ]
  },
  {
   "cell_type": "code",
   "execution_count": null,
   "metadata": {},
   "outputs": [],
   "source": [
    "import matplotlib.pyplot as plt\n",
    "plt.rcParams.update({'font.size': 24,\n",
    "                     'xtick.labelsize': 20,\n",
    "                     'ytick.labelsize': 20,\n",
    "                     'axes.titlesize': 28,\n",
    "                     'axes.labelsize': 28,\n",
    "                     'mathtext.fontset': 'stix',\n",
    "                     'font.family': 'STIXGeneral'})"
   ]
  },
  {
   "cell_type": "code",
   "execution_count": null,
   "metadata": {},
   "outputs": [],
   "source": [
    "qubits = 7\n",
    "dynamical_decoupling = False\n",
    "\n",
    "# Below are the jobs that were run for the paper in chronological order. \n",
    "# To run this, access to the QiskitRuntime account is required. However, \n",
    "# the results have been pickled, see save_results_and_plot.ipynb for how to\n",
    "jobs = [\"caup5uma4p74378b0670\", \"caurlrj8lg9ob0gt3n3g\",\"cavgoh6a4p74378c3t80\"]\n",
    "backend = \"ibm_nairobi\""
   ]
  },
  {
   "cell_type": "code",
   "execution_count": null,
   "metadata": {},
   "outputs": [],
   "source": [
    "if len(jobs) > 0:\n",
    "    # Load the previous job\n",
    "    result = service.job(jobs[-1]).result()\n",
    "    qka = result[\"qka\"]\n",
    "    dataset = result[\"dataset\"]\n",
    "else:\n",
    "    print(\"First job\")\n",
    "    qka = None\n",
    "    dataset = None\n",
    "\n",
    "data = np.array(pd.read_csv(f'data/dataset_graph{qubits}.csv'))\n",
    "\n",
    "options = {\"backend_name\": backend}\n",
    "\n",
    "runtime_inputs = {\n",
    "    \"data\": data,\n",
    "    \"num_steps\": 50,\n",
    "    \"qka\": qka,\n",
    "    \"dataset\": dataset,\n",
    "    \"qubits\":qubits,\n",
    "    \"dynamical_decoupling\":dynamical_decoupling,\n",
    "    \"tau\":150,\n",
    "    \"shots\": 8192\n",
    "}\n",
    "\n",
    "job = service.run(\n",
    "    program_id=program_id,\n",
    "    options=options,\n",
    "    inputs=runtime_inputs,\n",
    ")"
   ]
  }
 ],
 "metadata": {
  "kernelspec": {
   "display_name": "Python 3.9.7 ('quantum_source')",
   "language": "python",
   "name": "python3"
  },
  "language_info": {
   "codemirror_mode": {
    "name": "ipython",
    "version": 3
   },
   "file_extension": ".py",
   "mimetype": "text/x-python",
   "name": "python",
   "nbconvert_exporter": "python",
   "pygments_lexer": "ipython3",
   "version": "3.9.7"
  },
  "orig_nbformat": 4,
  "vscode": {
   "interpreter": {
    "hash": "82c9b155add844aee23525c6d021f33a807b4bfd3db5bda67fe04920efd087bf"
   }
  }
 },
 "nbformat": 4,
 "nbformat_minor": 2
}
